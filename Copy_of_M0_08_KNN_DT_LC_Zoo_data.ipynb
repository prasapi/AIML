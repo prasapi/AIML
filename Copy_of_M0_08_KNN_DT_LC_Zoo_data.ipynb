{
  "nbformat": 4,
  "nbformat_minor": 0,
  "metadata": {
    "colab": {
      "name": "Copy of M0_08_KNN_DT_LC_Zoo_data.ipynb",
      "provenance": [],
      "collapsed_sections": [],
      "include_colab_link": true
    },
    "kernelspec": {
      "name": "python3",
      "display_name": "Python 3"
    }
  },
  "cells": [
    {
      "cell_type": "markdown",
      "metadata": {
        "id": "view-in-github",
        "colab_type": "text"
      },
      "source": [
        "<a href=\"https://colab.research.google.com/github/prasapi/AIML/blob/master/Copy_of_M0_08_KNN_DT_LC_Zoo_data.ipynb\" target=\"_parent\"><img src=\"https://colab.research.google.com/assets/colab-badge.svg\" alt=\"Open In Colab\"/></a>"
      ]
    },
    {
      "cell_type": "markdown",
      "metadata": {
        "id": "RkCHsOp1XkvK",
        "colab_type": "text"
      },
      "source": [
        "# Advanced Certification in AIML\n",
        "## A Program by IIIT-H and TalentSprint"
      ]
    },
    {
      "cell_type": "markdown",
      "metadata": {
        "id": "uRmPBEJjHpgg",
        "colab_type": "text"
      },
      "source": [
        "## Learning Objectives"
      ]
    },
    {
      "cell_type": "markdown",
      "metadata": {
        "id": "UvoALsCmXkvN",
        "colab_type": "text"
      },
      "source": [
        "At the end of the experiment, you will be able to :\n",
        "\n",
        "*  Apply Decision Tree , KNN and Linear Classifier on Zoo dataset\n"
      ]
    },
    {
      "cell_type": "markdown",
      "metadata": {
        "id": "RZpVYYrIHj1A",
        "colab_type": "text"
      },
      "source": [
        "## Dataset"
      ]
    },
    {
      "cell_type": "markdown",
      "metadata": {
        "id": "OkgO-5YyHlfn",
        "colab_type": "text"
      },
      "source": [
        "### Description\n",
        "\n",
        "\n",
        "In this experiment we will be using a Zoo dataset. The \"type\" attribute appears to be the class attribute. Here is a breakdown of which animals are in which type:\n",
        "\n",
        "\n",
        "1 -- Mammals (41) aardvark, antelope, bear, boar, buffalo, calf, cavy, cheetah, deer, dolphin, elephant, fruitbat, giraffe, girl, goat, gorilla, hamster, hare, leopard, lion, lynx, mink, mole, mongoose, opossum, oryx, platypus, polecat, pony, porpoise, puma, pussycat, raccoon, reindeer, seal, sealion, squirrel, vampire, vole, wallaby,wolf \n",
        "\n",
        "2 -- Birds (20) chicken, crow, dove, duck, flamingo, gull, hawk, kiwi, lark, ostrich, parakeet, penguin, pheasant, rhea, skimmer, skua, sparrow, swan, vulture, wren \n",
        "\n",
        "3 -- Reptiles (5) pitviper, seasnake, slowworm, tortoise, tuatara \n",
        "\n",
        "4 -- Aquatic (13) bass, carp, catfish, chub, dogfish, haddock, herring, pike, piranha, seahorse, sole, stingray, tuna \n",
        "\n",
        "5 -- Amphibians (4) frog, frog, newt, toad \n",
        "\n",
        "6 -- Insects (8) flea, gnat, honeybee, housefly, ladybird, moth, termite, wasp \n",
        "\n",
        "7 -- Arthropods (10) clam, crab, crayfish, lobster, octopus, scorpion, seawasp, slug, starfish, worm\n",
        "\n"
      ]
    },
    {
      "cell_type": "markdown",
      "metadata": {
        "id": "ZcljNVM6XkvT",
        "colab_type": "text"
      },
      "source": [
        "### Keywords\n",
        "\n",
        "* Numpy\n",
        "* Pandas\n",
        "* ID3 Algorithm\n",
        "* Train, Test Split"
      ]
    },
    {
      "cell_type": "markdown",
      "metadata": {
        "id": "lb-lC3mFYV0O",
        "colab_type": "text"
      },
      "source": [
        "### Setup Steps"
      ]
    },
    {
      "cell_type": "code",
      "metadata": {
        "id": "BqeToHAJYAoO",
        "colab_type": "code",
        "colab": {}
      },
      "source": [
        "#@title Please enter your registration id to start: (e.g. P181900101) { run: \"auto\", display-mode: \"form\" }\n",
        "Id = \"\" #@param {type:\"string\"}\n"
      ],
      "execution_count": 0,
      "outputs": []
    },
    {
      "cell_type": "code",
      "metadata": {
        "id": "09E06aGHYyqw",
        "colab_type": "code",
        "colab": {}
      },
      "source": [
        "#@title Please enter your password (normally your phone number) to continue: { run: \"auto\", display-mode: \"form\" }\n",
        "password = \"\" #@param {type:\"string\"}\n"
      ],
      "execution_count": 0,
      "outputs": []
    },
    {
      "cell_type": "code",
      "metadata": {
        "id": "HdlXTs4FjbiJ",
        "colab_type": "code",
        "cellView": "both",
        "colab": {}
      },
      "source": [
        "#@title Run this cell to complete the setup for this Notebook\n",
        "from IPython import get_ipython\n",
        "\n",
        "ipython = get_ipython()\n",
        "  \n",
        "notebook=\"M0_009\" #name of the notebook\n",
        "Answer = \"Ungraded\"\n",
        "def setup():\n",
        "#  ipython.magic(\"sx pip3 install torch\") \n",
        "    ipython.magic(\"sx wget https://cdn.talentsprint.com/aiml/Experiment_related_data/Zoo_New.csv\")\n",
        "    ipython.magic(\"sx apt-get install graphviz\")\n",
        "    ipython.magic(\"sx pip install graphviz\")\n",
        "    from IPython.display import HTML, display\n",
        "    display(HTML('<script src=\"https://dashboard.talentsprint.com/aiml/record_ip.html?traineeId={0}&recordId={1}\"></script>'.format(getId(),submission_id)))\n",
        "    print(\"Setup completed successfully\")\n",
        "    return\n",
        "\n",
        "def submit_notebook():\n",
        "    \n",
        "    ipython.magic(\"notebook -e \"+ notebook + \".ipynb\")\n",
        "    \n",
        "    import requests, json, base64, datetime\n",
        "\n",
        "    url = \"https://dashboard.talentsprint.com/xp/app/save_notebook_attempts\"\n",
        "    if not submission_id:\n",
        "      data = {\"id\" : getId(), \"notebook\" : notebook, \"mobile\" : getPassword()}\n",
        "      r = requests.post(url, data = data)\n",
        "      r = json.loads(r.text)\n",
        "\n",
        "      if r[\"status\"] == \"Success\":\n",
        "          return r[\"record_id\"]\n",
        "      elif \"err\" in r:        \n",
        "        print(r[\"err\"])\n",
        "        return None        \n",
        "      else:\n",
        "        print (\"Something is wrong, the notebook will not be submitted for grading\")\n",
        "        return None\n",
        "\n",
        "    elif getAnswer() and getComplexity() and getAdditional() and getConcepts():\n",
        "      f = open(notebook + \".ipynb\", \"rb\")\n",
        "      file_hash = base64.b64encode(f.read())\n",
        "\n",
        "      data = {\"complexity\" : Complexity, \"additional\" :Additional, \n",
        "              \"concepts\" : Concepts, \"record_id\" : submission_id, \n",
        "              \"answer\" : Answer, \"id\" : Id, \"file_hash\" : file_hash,\n",
        "              \"notebook\" : notebook}\n",
        "\n",
        "      r = requests.post(url, data = data)\n",
        "      r = json.loads(r.text)\n",
        "      print(\"Your submission is successful.\")\n",
        "      print(\"Ref Id:\", submission_id)\n",
        "      print(\"Date of submission: \", r[\"date\"])\n",
        "      print(\"Time of submission: \", r[\"time\"])\n",
        "      print(\"View your submissions: https://iiith-aiml.talentsprint.com/notebook_submissions\")\n",
        "      print(\"For any queries/discrepancies, please connect with mentors through the chat icon in LMS dashboard.\")\n",
        "      return submission_id\n",
        "    else: submission_id\n",
        "    \n",
        "\n",
        "def getAdditional():\n",
        "  try:\n",
        "    if Additional: return Additional      \n",
        "    else: raise NameError('')\n",
        "  except NameError:\n",
        "    print (\"Please answer Additional Question\")\n",
        "    return None\n",
        "\n",
        "def getComplexity():\n",
        "  try:\n",
        "    return Complexity\n",
        "  except NameError:\n",
        "    print (\"Please answer Complexity Question\")\n",
        "    return None\n",
        "  \n",
        "def getConcepts():\n",
        "  try:\n",
        "    return Concepts\n",
        "  except NameError:\n",
        "    print (\"Please answer Concepts Question\")\n",
        "    return None\n",
        "\n",
        "def getAnswer():\n",
        "  try:\n",
        "    return Answer\n",
        "  except NameError:\n",
        "    print (\"Please answer Question\")\n",
        "    return None\n",
        "\n",
        "def getId():\n",
        "  try: \n",
        "    return Id if Id else None\n",
        "  except NameError:\n",
        "    return None\n",
        "\n",
        "def getPassword():\n",
        "  try:\n",
        "    return password if password else None\n",
        "  except NameError:\n",
        "    return None\n",
        "\n",
        "submission_id = None\n",
        "### Setup \n",
        "if getPassword() and getId():\n",
        "  submission_id = submit_notebook()\n",
        "  if submission_id:\n",
        "    setup()\n",
        "    from IPython.display import HTML\n",
        "    HTML('<script src=\"https://dashboard.talentsprint.com/aiml/record_ip.html?traineeId={0}&recordId={1}\"></script>'.format(getId(),submission_id))\n",
        "  \n",
        "else:\n",
        "  print (\"Please complete Id and Password cells before running setup\")\n",
        "\n"
      ],
      "execution_count": 0,
      "outputs": []
    },
    {
      "cell_type": "markdown",
      "metadata": {
        "id": "0XHuORe3XkvX",
        "colab_type": "text"
      },
      "source": [
        "#### Importing Required Packages"
      ]
    },
    {
      "cell_type": "code",
      "metadata": {
        "id": "Svq6M_C5XkvY",
        "colab_type": "code",
        "colab": {}
      },
      "source": [
        "import pandas as pd\n",
        "import numpy as np\n",
        "import graphviz\n",
        "from sklearn.tree import export_graphviz\n",
        "from sklearn.model_selection import train_test_split\n",
        "from sklearn.neighbors import KNeighborsClassifier\n",
        "from sklearn import linear_model"
      ],
      "execution_count": 0,
      "outputs": []
    },
    {
      "cell_type": "markdown",
      "metadata": {
        "id": "CKwkj-L1Xkvf",
        "colab_type": "text"
      },
      "source": [
        "#### Loading Dataset"
      ]
    },
    {
      "cell_type": "code",
      "metadata": {
        "id": "ea9aOI8aXkvh",
        "colab_type": "code",
        "colab": {}
      },
      "source": [
        "#Import all columns omitting the fist which consists the names of the animals\n",
        "dataset = pd.read_csv('Zoo_New.csv',\n",
        "                      names=['animal_name','hair','feathers','eggs','milk',\n",
        "                                                   'airbone','aquatic','predator','toothed','backbone',\n",
        "                                                  'breathes','venomous','fins','legs','tail','domestic','catsize','class',])\n",
        "#We don't use animal name for classification because it is just a string stating the \n",
        "#name and it won't provide any extra information for classification in this context\n",
        "dataset=dataset.drop('animal_name',axis=1)"
      ],
      "execution_count": 0,
      "outputs": []
    },
    {
      "cell_type": "code",
      "metadata": {
        "id": "0fnA51aR7rVV",
        "colab_type": "code",
        "colab": {}
      },
      "source": [
        "dataset.head()"
      ],
      "execution_count": 0,
      "outputs": []
    },
    {
      "cell_type": "markdown",
      "metadata": {
        "id": "lptrDd2hIOFN",
        "colab_type": "text"
      },
      "source": [
        "Let us check for the unique classes ( labels ) present in the dataset"
      ]
    },
    {
      "cell_type": "code",
      "metadata": {
        "id": "EY7dWSckupNG",
        "colab_type": "code",
        "colab": {}
      },
      "source": [
        "np.unique(dataset['class'].values)"
      ],
      "execution_count": 0,
      "outputs": []
    },
    {
      "cell_type": "markdown",
      "metadata": {
        "id": "ORDrj4FbIV-W",
        "colab_type": "text"
      },
      "source": [
        "Checking for the shape of the dataset"
      ]
    },
    {
      "cell_type": "code",
      "metadata": {
        "id": "WZi0wd4FXkvy",
        "colab_type": "code",
        "colab": {}
      },
      "source": [
        "dataset.shape"
      ],
      "execution_count": 0,
      "outputs": []
    },
    {
      "cell_type": "markdown",
      "metadata": {
        "id": "GTNxkkvzXkv4",
        "colab_type": "text"
      },
      "source": [
        "#### Splitting the datasets into train and test"
      ]
    },
    {
      "cell_type": "code",
      "metadata": {
        "id": "xn9kYLEpXkv5",
        "colab_type": "code",
        "colab": {}
      },
      "source": [
        "training_data, testing_data = train_test_split(dataset,test_size=0.2)"
      ],
      "execution_count": 0,
      "outputs": []
    },
    {
      "cell_type": "code",
      "metadata": {
        "id": "Fe-o-hD_L3PG",
        "colab_type": "code",
        "colab": {}
      },
      "source": [
        "training_data = training_data.values\n",
        "print(training_data)"
      ],
      "execution_count": 0,
      "outputs": []
    },
    {
      "cell_type": "code",
      "metadata": {
        "id": "x7Nme5mHM3hf",
        "colab_type": "code",
        "colab": {}
      },
      "source": [
        "testing_data = testing_data.values\n",
        "print(testing_data )"
      ],
      "execution_count": 0,
      "outputs": []
    },
    {
      "cell_type": "markdown",
      "metadata": {
        "id": "P3U8So3OXkv-",
        "colab_type": "text"
      },
      "source": [
        "#### Predict the class of test data"
      ]
    },
    {
      "cell_type": "code",
      "metadata": {
        "id": "-iGxFIDlLi5y",
        "colab_type": "code",
        "colab": {}
      },
      "source": [
        "## Importing the package\n",
        "from sklearn import tree"
      ],
      "execution_count": 0,
      "outputs": []
    },
    {
      "cell_type": "code",
      "metadata": {
        "id": "YoRwrg95Lr-O",
        "colab_type": "code",
        "colab": {}
      },
      "source": [
        "clf = tree.DecisionTreeClassifier(criterion='entropy')"
      ],
      "execution_count": 0,
      "outputs": []
    },
    {
      "cell_type": "code",
      "metadata": {
        "id": "Dz1kUKYZ19Ek",
        "colab_type": "code",
        "colab": {}
      },
      "source": [
        "clf"
      ],
      "execution_count": 0,
      "outputs": []
    },
    {
      "cell_type": "code",
      "metadata": {
        "id": "GU12mErjLuVH",
        "colab_type": "code",
        "colab": {}
      },
      "source": [
        "# Fitting the data\n",
        "clf = clf.fit(training_data[:,:16],training_data[:,16])"
      ],
      "execution_count": 0,
      "outputs": []
    },
    {
      "cell_type": "code",
      "metadata": {
        "id": "eQFJG4fzMqjc",
        "colab_type": "code",
        "colab": {}
      },
      "source": [
        "# Calculating the labels for test data\n",
        "pred = clf.predict(testing_data[:,:16])"
      ],
      "execution_count": 0,
      "outputs": []
    },
    {
      "cell_type": "code",
      "metadata": {
        "id": "N-YLa2gKNGdw",
        "colab_type": "code",
        "colab": {}
      },
      "source": [
        "\n",
        "# Importing library to calculate accuracy score\n",
        "from sklearn.metrics import accuracy_score"
      ],
      "execution_count": 0,
      "outputs": []
    },
    {
      "cell_type": "code",
      "metadata": {
        "id": "DBGjNoZYNOE-",
        "colab_type": "code",
        "colab": {}
      },
      "source": [
        "# Calculating accuracy\n",
        "accuracy_score(testing_data[:,16], pred)"
      ],
      "execution_count": 0,
      "outputs": []
    },
    {
      "cell_type": "markdown",
      "metadata": {
        "id": "PIzzc1LPJhVg",
        "colab_type": "text"
      },
      "source": [
        "saving the trained model (tree) in a png format using graphviz and os packages"
      ]
    },
    {
      "cell_type": "code",
      "metadata": {
        "id": "hHXPQM8U399j",
        "colab_type": "code",
        "colab": {}
      },
      "source": [
        "import os\n",
        "save_dot = \"output\" + \".dot\"\n",
        "save_png = \"output\"+ \".png\"\n",
        "graph = graphviz.Source(export_graphviz(clf, out_file=save_dot, filled = True,feature_names=(list(dataset.columns))[:-1]))\n",
        "os.system(\"dot -T png -o \" + save_png + \" \" + save_dot)"
      ],
      "execution_count": 0,
      "outputs": []
    },
    {
      "cell_type": "markdown",
      "metadata": {
        "id": "ojuPB6OQJqHB",
        "colab_type": "text"
      },
      "source": [
        "Plotting the tree"
      ]
    },
    {
      "cell_type": "code",
      "metadata": {
        "id": "Rz5cQhfCFXz9",
        "colab_type": "code",
        "colab": {}
      },
      "source": [
        "import matplotlib.pyplot as plt\n",
        "plt.figure(figsize=(20,20))\n",
        "plt.grid(False)\n",
        "plt.imshow(plt.imread(save_png))\n",
        "plt.show()"
      ],
      "execution_count": 0,
      "outputs": []
    },
    {
      "cell_type": "markdown",
      "metadata": {
        "id": "n6w0-4CQXkwK",
        "colab_type": "text"
      },
      "source": [
        "#### Exercise 1\n",
        "\n",
        "Change the train and test split ratio and observe the change in accuracy "
      ]
    },
    {
      "cell_type": "code",
      "metadata": {
        "id": "6ldggl6o4AYF",
        "colab_type": "code",
        "colab": {}
      },
      "source": [
        "#### Your code here"
      ],
      "execution_count": 0,
      "outputs": []
    },
    {
      "cell_type": "markdown",
      "metadata": {
        "id": "STkPQRRL8J66",
        "colab_type": "text"
      },
      "source": [
        "### Exercise 2\n",
        "\n",
        "Classify the data using KNN"
      ]
    },
    {
      "cell_type": "code",
      "metadata": {
        "id": "e6Mh1pD28TwK",
        "colab_type": "code",
        "colab": {}
      },
      "source": [
        "# Your Code Here"
      ],
      "execution_count": 0,
      "outputs": []
    },
    {
      "cell_type": "markdown",
      "metadata": {
        "id": "B1kHHPNr8j4x",
        "colab_type": "text"
      },
      "source": [
        "### Exercise 3\n",
        "\n",
        "Classify the data using Linear Classifier"
      ]
    },
    {
      "cell_type": "code",
      "metadata": {
        "id": "4P-yN7XC8orv",
        "colab_type": "code",
        "colab": {}
      },
      "source": [
        "# Your Code Here"
      ],
      "execution_count": 0,
      "outputs": []
    },
    {
      "cell_type": "markdown",
      "metadata": {
        "id": "k8X2x1u4Cl26",
        "colab_type": "text"
      },
      "source": [
        "### Please answer the questions below to complete the experiment:"
      ]
    },
    {
      "cell_type": "code",
      "metadata": {
        "id": "rpKB5h3eXkwM",
        "colab_type": "code",
        "colab": {}
      },
      "source": [
        "#@title How was the experiment? { run: \"auto\", form-width: \"500px\", display-mode: \"form\" }\n",
        "Complexity = \" \" #@param [\"Too Simple, I am wasting time\", \"Good, But Not Challenging for me\", \"Good and Challenging me\", \"Was Tough, but I did it\", \"Too Difficult for me\"]\n"
      ],
      "execution_count": 0,
      "outputs": []
    },
    {
      "cell_type": "code",
      "metadata": {
        "id": "QkeXEuLiCsWm",
        "colab_type": "code",
        "colab": {}
      },
      "source": [
        "#@title If it was very easy, what more you would have liked to have been added? If it was very difficult, what would you have liked to have been removed? { run: \"auto\", display-mode: \"form\" }\n",
        "Additional = \"\" #@param {type:\"string\"}"
      ],
      "execution_count": 0,
      "outputs": []
    },
    {
      "cell_type": "code",
      "metadata": {
        "id": "9nPlVevNCvV4",
        "colab_type": "code",
        "colab": {}
      },
      "source": [
        "#@title Can you identify the concepts from the lecture which this experiment covered? { run: \"auto\", vertical-output: true, display-mode: \"form\" }\n",
        "Concepts = \" \" #@param [\"Yes\", \"No\"]"
      ],
      "execution_count": 0,
      "outputs": []
    },
    {
      "cell_type": "code",
      "metadata": {
        "id": "JmdL9S61j01B",
        "colab_type": "code",
        "colab": {}
      },
      "source": [
        "#@title  Text and image description/explanation and code comments within the experiment: { run: \"auto\", vertical-output: true, display-mode: \"form\" }\n",
        "Comments = \"\" #@param [\"Very Useful\", \"Somewhat Useful\", \"Not Useful\", \"Didn't use\"]\n"
      ],
      "execution_count": 0,
      "outputs": []
    },
    {
      "cell_type": "code",
      "metadata": {
        "id": "GP7jb0CWj09q",
        "colab_type": "code",
        "colab": {}
      },
      "source": [
        "#@title In class Mentor Support: { run: \"auto\", vertical-output: true, display-mode: \"form\" }\n",
        "Inclass_support = \" \" #@param [\"Very Useful\", \"Somewhat Useful\", \"Not Useful\", \"Didn't use\"]\n"
      ],
      "execution_count": 0,
      "outputs": []
    },
    {
      "cell_type": "code",
      "metadata": {
        "id": "I0f85APoj1Fh",
        "colab_type": "code",
        "colab": {}
      },
      "source": [
        "#@title Online Mentor Support: { run: \"auto\", vertical-output: true, display-mode: \"form\" }\n",
        "Online_support = \"\" #@param [\"Very Useful\", \"Somewhat Useful\", \"Not Useful\", \"Didn't use\"]\n"
      ],
      "execution_count": 0,
      "outputs": []
    },
    {
      "cell_type": "code",
      "metadata": {
        "id": "sxvDY4NOCx1I",
        "colab_type": "code",
        "cellView": "form",
        "colab": {}
      },
      "source": [
        "#@title Run this cell to submit your notebook  { vertical-output: true }\n",
        "try:\n",
        "  if submission_id:\n",
        "      return_id = submit_notebook()\n",
        "      if return_id : submission_id =return_id\n",
        "  else:\n",
        "      print(\"Please complete the setup first.\")\n",
        "except NameError:\n",
        "  print (\"Please complete the setup first.\")"
      ],
      "execution_count": 0,
      "outputs": []
    }
  ]
}